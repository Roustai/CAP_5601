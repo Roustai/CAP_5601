{
 "cells": [
  {
   "cell_type": "code",
   "execution_count": 2,
   "metadata": {},
   "outputs": [
    {
     "name": "stdout",
     "output_type": "stream",
     "text": [
      "     PassengerId  Survived  Pclass  \\\n",
      "0              1       0.0       3   \n",
      "1              2       1.0       1   \n",
      "2              3       1.0       3   \n",
      "3              4       1.0       1   \n",
      "4              5       0.0       3   \n",
      "..           ...       ...     ...   \n",
      "413         1305       NaN       3   \n",
      "414         1306       NaN       1   \n",
      "415         1307       NaN       3   \n",
      "416         1308       NaN       3   \n",
      "417         1309       NaN       3   \n",
      "\n",
      "                                                  Name     Sex   Age  SibSp  \\\n",
      "0                              Braund, Mr. Owen Harris    male  22.0      1   \n",
      "1    Cumings, Mrs. John Bradley (Florence Briggs Th...  female  38.0      1   \n",
      "2                               Heikkinen, Miss. Laina  female  26.0      0   \n",
      "3         Futrelle, Mrs. Jacques Heath (Lily May Peel)  female  35.0      1   \n",
      "4                             Allen, Mr. William Henry    male  35.0      0   \n",
      "..                                                 ...     ...   ...    ...   \n",
      "413                                 Spector, Mr. Woolf    male   NaN      0   \n",
      "414                       Oliva y Ocana, Dona. Fermina  female  39.0      0   \n",
      "415                       Saether, Mr. Simon Sivertsen    male  38.5      0   \n",
      "416                                Ware, Mr. Frederick    male   NaN      0   \n",
      "417                           Peter, Master. Michael J    male   NaN      1   \n",
      "\n",
      "     Parch              Ticket      Fare Cabin Embarked  \n",
      "0        0           A/5 21171    7.2500   NaN        S  \n",
      "1        0            PC 17599   71.2833   C85        C  \n",
      "2        0    STON/O2. 3101282    7.9250   NaN        S  \n",
      "3        0              113803   53.1000  C123        S  \n",
      "4        0              373450    8.0500   NaN        S  \n",
      "..     ...                 ...       ...   ...      ...  \n",
      "413      0           A.5. 3236    8.0500   NaN        S  \n",
      "414      0            PC 17758  108.9000  C105        C  \n",
      "415      0  SOTON/O.Q. 3101262    7.2500   NaN        S  \n",
      "416      0              359309    8.0500   NaN        S  \n",
      "417      1                2668   22.3583   NaN        C  \n",
      "\n",
      "[1309 rows x 12 columns]\n"
     ]
    }
   ],
   "source": [
    "#Read and combine data into a signle, iterable data frame\n",
    "import statistics\n",
    "import pandas as pd\n",
    "import numpy as np\n",
    "#titanic = []\n",
    "train = pd.read_csv('/home/alex/Downloads/train.csv', index_col = None, header = 0)\n",
    "test = pd.read_csv('/home/alex/Downloads/test.csv', index_col = None, header = 0)\n",
    "combine = [train,test]\n",
    "titanic = pd.concat(combine)\n",
    "\n",
    "print(titanic)"
   ]
  },
  {
   "cell_type": "code",
   "execution_count": 3,
   "metadata": {},
   "outputs": [
    {
     "name": "stdout",
     "output_type": "stream",
     "text": [
      "nan\n",
      "nan\n",
      "nan\n",
      "7.8958\n",
      "14.4542\n",
      "31.275\n",
      "nan\n",
      "512.3292\n"
     ]
    }
   ],
   "source": [
    "#This part is for question 7\n",
    "#Numerical values = (Age, Fare)\n",
    "\n",
    "age = titanic['Age'].values\n",
    "#age = age[np.isfinite(age)] #comment out for late questions\n",
    "fare = titanic['Fare'].values\n",
    "fare = fare[np.isfinite(fare)]\n",
    "\n",
    "\n",
    "#count\n",
    "#print(len(age))\n",
    "#print(len(fare))\n",
    "\n",
    "#mean\n",
    "#print(np.mean(age))\n",
    "#print(np.mean(fare))\n",
    "#print(age)\n",
    "\n",
    "#min\n",
    "#print(np.min(age))\n",
    "#print(np.min(fare))\n",
    "\n",
    "#percentile age\n",
    "print(np.percentile(age, 25))\n",
    "print(np.percentile(age, 50))\n",
    "print(np.percentile(age, 75))\n",
    "\n",
    "#percentile age\n",
    "print(np.percentile(fare, 25))\n",
    "print(np.percentile(fare, 50))\n",
    "print(np.percentile(fare, 75))\n",
    "\n",
    "#max\n",
    "print(np.max(age))\n",
    "print(np.max(fare))"
   ]
  },
  {
   "cell_type": "code",
   "execution_count": 4,
   "metadata": {},
   "outputs": [
    {
     "name": "stdout",
     "output_type": "stream",
     "text": [
      "[('male', 843), ('female', 466)]\n"
     ]
    }
   ],
   "source": [
    "#Question 8: Categorical values are Sex, Embarked, Survived, Pclass\n",
    "from collections import Counter\n",
    "sex     = titanic['Sex'].values\n",
    "embark  = titanic['Embarked'].values  \n",
    "survive = titanic['Survived'].values\n",
    "pclass  = titanic['Pclass'].values\n",
    "\n",
    "#print(titanic['Pclass'].count()) #used for getting the count\n",
    "mc = Counter(sex)\n",
    "print(mc.most_common())"
   ]
  },
  {
   "cell_type": "code",
   "execution_count": 5,
   "metadata": {},
   "outputs": [
    {
     "name": "stdout",
     "output_type": "stream",
     "text": [
      "0.6296296296296297\n"
     ]
    }
   ],
   "source": [
    "#Question 9\n",
    "class_to_survive = np.vstack((pclass, survive)).T\n",
    "new_list = []\n",
    "\n",
    "for i in range(len(class_to_survive)):\n",
    "    if class_to_survive[i][0] ==1:\n",
    "        new_list.append(class_to_survive[i])\n",
    "top = 0\n",
    "bot = 0\n",
    "for i in range(len(new_list)):\n",
    "    if new_list[i][1] == 0:\n",
    "        bot = bot+1\n",
    "    if new_list[i][1] ==1:\n",
    "        top = top+1\n",
    "        \n",
    "print(top/(top + bot))"
   ]
  },
  {
   "cell_type": "code",
   "execution_count": 6,
   "metadata": {},
   "outputs": [
    {
     "name": "stdout",
     "output_type": "stream",
     "text": [
      "109\n",
      "233\n"
     ]
    }
   ],
   "source": [
    "#Question 10 Are women more likely to have survived?\n",
    "#There are 843 men and 466 women in total\n",
    "\n",
    "sex_surv = np.vstack((sex, survive)).T\n",
    "new_list = []\n",
    "\n",
    "male_live = 0\n",
    "female_live = 0\n",
    "for i in range(len(sex_surv)): \n",
    "    if sex_surv[i][0] == 'male' and sex_surv[i][1] ==1:\n",
    "        male_live = male_live+1\n",
    "\n",
    "for i in range(len(sex_surv)): \n",
    "    if sex_surv[i][0] == 'female' and sex_surv[i][1] ==1:\n",
    "        female_live = female_live+1\n",
    "\n",
    "print(male_live)\n",
    "print(female_live)"
   ]
  },
  {
   "cell_type": "code",
   "execution_count": 8,
   "metadata": {},
   "outputs": [
    {
     "name": "stdout",
     "output_type": "stream",
     "text": [
      "216\n"
     ]
    }
   ],
   "source": [
    "#Question 14 What is the rate of duplicates in tickets?\n",
    "ticket = titanic['Ticket'].values\n",
    "\n",
    "print(len([item for item, count in Counter(ticket).items() if count > 1]))\n",
    "\n",
    "x = [item for item, count in Counter(ticket).items() if count > 1]\n",
    "\n",
    "tick_surv = np.vstack((ticket, survive)).T\n"
   ]
  },
  {
   "cell_type": "code",
   "execution_count": 9,
   "metadata": {},
   "outputs": [],
   "source": [
    "#Question 15 Cabin Data\n",
    "cabin = titanic['Cabin'].values\n",
    "\n",
    "mc = Counter(cabin)\n",
    "#print(mc.most_common())\n",
    "\n"
   ]
  },
  {
   "cell_type": "code",
   "execution_count": 11,
   "metadata": {},
   "outputs": [],
   "source": [
    "from copy import copy\n",
    "\n",
    "gender = copy(sex)\n",
    "\n",
    "  \n",
    "# creating a dict file  \n",
    "gender = {'male': 0,'female': 1} \n",
    "  \n",
    "# traversing through dataframe \n",
    "# Gender column and writing \n",
    "# values where key matches \n",
    "titanic['Gender'] = [gender[item] for item in titanic['Sex']] \n",
    "#print(titanic) "
   ]
  },
  {
   "cell_type": "code",
   "execution_count": null,
   "metadata": {},
   "outputs": [],
   "source": []
  }
 ],
 "metadata": {
  "kernelspec": {
   "display_name": "Python 3",
   "language": "python",
   "name": "python3"
  },
  "language_info": {
   "codemirror_mode": {
    "name": "ipython",
    "version": 3
   },
   "file_extension": ".py",
   "mimetype": "text/x-python",
   "name": "python",
   "nbconvert_exporter": "python",
   "pygments_lexer": "ipython3",
   "version": "3.7.3"
  }
 },
 "nbformat": 4,
 "nbformat_minor": 4
}
