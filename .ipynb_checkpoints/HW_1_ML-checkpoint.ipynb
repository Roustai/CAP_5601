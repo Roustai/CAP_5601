{
 "cells": [
  {
   "cell_type": "code",
   "execution_count": 205,
   "metadata": {},
   "outputs": [
    {
     "name": "stdout",
     "output_type": "stream",
     "text": [
      "     PassengerId  Survived  Pclass  \\\n",
      "0              1       0.0       3   \n",
      "1              2       1.0       1   \n",
      "2              3       1.0       3   \n",
      "3              4       1.0       1   \n",
      "4              5       0.0       3   \n",
      "..           ...       ...     ...   \n",
      "413         1305       NaN       3   \n",
      "414         1306       NaN       1   \n",
      "415         1307       NaN       3   \n",
      "416         1308       NaN       3   \n",
      "417         1309       NaN       3   \n",
      "\n",
      "                                                  Name     Sex   Age  SibSp  \\\n",
      "0                              Braund, Mr. Owen Harris    male  22.0      1   \n",
      "1    Cumings, Mrs. John Bradley (Florence Briggs Th...  female  38.0      1   \n",
      "2                               Heikkinen, Miss. Laina  female  26.0      0   \n",
      "3         Futrelle, Mrs. Jacques Heath (Lily May Peel)  female  35.0      1   \n",
      "4                             Allen, Mr. William Henry    male  35.0      0   \n",
      "..                                                 ...     ...   ...    ...   \n",
      "413                                 Spector, Mr. Woolf    male   NaN      0   \n",
      "414                       Oliva y Ocana, Dona. Fermina  female  39.0      0   \n",
      "415                       Saether, Mr. Simon Sivertsen    male  38.5      0   \n",
      "416                                Ware, Mr. Frederick    male   NaN      0   \n",
      "417                           Peter, Master. Michael J    male   NaN      1   \n",
      "\n",
      "     Parch              Ticket      Fare Cabin Embarked  \n",
      "0        0           A/5 21171    7.2500   NaN        S  \n",
      "1        0            PC 17599   71.2833   C85        C  \n",
      "2        0    STON/O2. 3101282    7.9250   NaN        S  \n",
      "3        0              113803   53.1000  C123        S  \n",
      "4        0              373450    8.0500   NaN        S  \n",
      "..     ...                 ...       ...   ...      ...  \n",
      "413      0           A.5. 3236    8.0500   NaN        S  \n",
      "414      0            PC 17758  108.9000  C105        C  \n",
      "415      0  SOTON/O.Q. 3101262    7.2500   NaN        S  \n",
      "416      0              359309    8.0500   NaN        S  \n",
      "417      1                2668   22.3583   NaN        C  \n",
      "\n",
      "[1309 rows x 12 columns]\n"
     ]
    }
   ],
   "source": [
    "#Read and combine data into a signle, iterable data frame\n",
    "import statistics\n",
    "import pandas as pd\n",
    "import numpy as np\n",
    "import matplotlib.pyplot as plt\n",
    "\n",
    "#titanic = []\n",
    "train = pd.read_csv('train.csv', index_col = None, header = 0)\n",
    "test = pd.read_csv('test.csv', index_col = None, header = 0)\n",
    "combine = [train,test]\n",
    "titanic = pd.concat(combine)\n",
    "\n",
    "print(titanic)"
   ]
  },
  {
   "cell_type": "code",
   "execution_count": 49,
   "metadata": {},
   "outputs": [
    {
     "name": "stdout",
     "output_type": "stream",
     "text": [
      "nan\n",
      "nan\n",
      "nan\n",
      "7.8958\n",
      "14.4542\n",
      "31.275\n",
      "nan\n",
      "512.3292\n"
     ]
    }
   ],
   "source": [
    "#This part is for question 7\n",
    "#Numerical values = (Age, Fare)\n",
    "\n",
    "age = titanic['Age'].values\n",
    "#age = age[np.isfinite(age)] #comment out for late questions\n",
    "fare = titanic['Fare'].values\n",
    "fare = fare[np.isfinite(fare)]\n",
    "\n",
    "\n",
    "#count\n",
    "#print(len(age))\n",
    "#print(len(fare))\n",
    "\n",
    "#mean\n",
    "#print(np.mean(age))\n",
    "#print(np.mean(fare))\n",
    "#print(age)\n",
    "\n",
    "#min\n",
    "#print(np.min(age))\n",
    "#print(np.min(fare))\n",
    "\n",
    "#percentile age\n",
    "print(np.percentile(age, 25))\n",
    "print(np.percentile(age, 50))\n",
    "print(np.percentile(age, 75))\n",
    "\n",
    "#percentile age\n",
    "print(np.percentile(fare, 25))\n",
    "print(np.percentile(fare, 50))\n",
    "print(np.percentile(fare, 75))\n",
    "\n",
    "#max\n",
    "print(np.max(age))\n",
    "print(np.max(fare))"
   ]
  },
  {
   "cell_type": "code",
   "execution_count": 5,
   "metadata": {},
   "outputs": [
    {
     "name": "stdout",
     "output_type": "stream",
     "text": [
      "[('male', 843), ('female', 466)]\n"
     ]
    }
   ],
   "source": [
    "#Question 8: Categorical values are Sex, Embarked, Survived, Pclass\n",
    "from collections import Counter\n",
    "sex     = titanic['Sex'].values\n",
    "embark  = titanic['Embarked'].values  \n",
    "survive = titanic['Survived'].values\n",
    "pclass  = titanic['Pclass'].values\n",
    "\n",
    "#print(titanic['Pclass'].count()) #used for getting the count\n",
    "mc = Counter(sex)\n",
    "print(mc.most_common())"
   ]
  },
  {
   "cell_type": "code",
   "execution_count": 6,
   "metadata": {},
   "outputs": [
    {
     "name": "stdout",
     "output_type": "stream",
     "text": [
      "0.6296296296296297\n"
     ]
    }
   ],
   "source": [
    "#Question 9\n",
    "class_to_survive = np.vstack((pclass, survive)).T\n",
    "new_list = []\n",
    "\n",
    "for i in range(len(class_to_survive)):\n",
    "    if class_to_survive[i][0] ==1:\n",
    "        new_list.append(class_to_survive[i])\n",
    "top = 0\n",
    "bot = 0\n",
    "for i in range(len(new_list)):\n",
    "    if new_list[i][1] == 0:\n",
    "        bot = bot+1\n",
    "    if new_list[i][1] ==1:\n",
    "        top = top+1\n",
    "        \n",
    "print(top/(top + bot))"
   ]
  },
  {
   "cell_type": "code",
   "execution_count": 7,
   "metadata": {},
   "outputs": [
    {
     "name": "stdout",
     "output_type": "stream",
     "text": [
      "109\n",
      "233\n"
     ]
    }
   ],
   "source": [
    "#Question 10 Are women more likely to have survived?\n",
    "#There are 843 men and 466 women in total\n",
    "\n",
    "sex_surv = np.vstack((sex, survive)).T\n",
    "new_list = []\n",
    "\n",
    "male_live = 0\n",
    "female_live = 0\n",
    "for i in range(len(sex_surv)): \n",
    "    if sex_surv[i][0] == 'male' and sex_surv[i][1] ==1:\n",
    "        male_live = male_live+1\n",
    "\n",
    "for i in range(len(sex_surv)): \n",
    "    if sex_surv[i][0] == 'female' and sex_surv[i][1] ==1:\n",
    "        female_live = female_live+1\n",
    "\n",
    "print(male_live)\n",
    "print(female_live)"
   ]
  },
  {
   "cell_type": "code",
   "execution_count": 217,
   "metadata": {},
   "outputs": [
    {
     "data": {
      "image/png": "[encoded data removed]",
      "text/plain": [
       "<Figure size 432x288 with 2 Axes>"
      ]
     },
     "metadata": {
      "needs_background": "light"
     },
     "output_type": "display_data"
    }
   ],
   "source": [
    "#Question 11\n",
    "\n",
    "titan_hist =titanic.hist(column = 'Age', by = 'Survived', bins = 15)"
   ]
  },
  {
   "cell_type": "code",
   "execution_count": 219,
   "metadata": {},
   "outputs": [
    {
     "data": {
      "text/plain": [
       "array([[<matplotlib.axes._subplots.AxesSubplot object at 0x7fa504361860>,\n",
       "        <matplotlib.axes._subplots.AxesSubplot object at 0x7fa504444fd0>],\n",
       "       [<matplotlib.axes._subplots.AxesSubplot object at 0x7fa5044833c8>,\n",
       "        <matplotlib.axes._subplots.AxesSubplot object at 0x7fa5044b3748>]],\n",
       "      dtype=object)"
      ]
     },
     "execution_count": 219,
     "metadata": {},
     "output_type": "execute_result"
    },
    {
     "data": {
      "image/png": "[encoded data removed]",
      "text/plain": [
       "<Figure size 432x288 with 2 Axes>"
      ]
     },
     "metadata": {
      "needs_background": "light"
     },
     "output_type": "display_data"
    },
    {
     "data": {
      "image/png": "[encoded data removed]",
      "text/plain": [
       "<Figure size 432x288 with 2 Axes>"
      ]
     },
     "metadata": {
      "needs_background": "light"
     },
     "output_type": "display_data"
    },
    {
     "data": {
      "image/png": "[encoded data removed]",
      "text/plain": [
       "<Figure size 432x288 with 2 Axes>"
      ]
     },
     "metadata": {
      "needs_background": "light"
     },
     "output_type": "display_data"
    },
    {
     "data": {
      "image/png": "[encoded data removed]",
      "text/plain": [
       "<Figure size 432x288 with 4 Axes>"
      ]
     },
     "metadata": {
      "needs_background": "light"
     },
     "output_type": "display_data"
    }
   ],
   "source": [
    "#Question 12\n",
    "\n",
    "#print(titanic)\n",
    "#total_year.set_index('year').plot(figsize=(10,5), grid=True)\n",
    "\n",
    "ax1= titanic[['Pclass', 'Age', 'Survived']]\n",
    "\n",
    "#print(ax1)\n",
    "\n",
    "ax1.groupby('Pclass').hist(column = 'Age', by = 'Survived')\n",
    "\n",
    "ax1.hist(column = 'Age', by ='Pclass')\n"
   ]
  },
  {
   "cell_type": "code",
   "execution_count": 214,
   "metadata": {},
   "outputs": [
    {
     "data": {
      "text/plain": [
       "Embarked\n",
       "C    [AxesSubplot(0.1,0.15;0.347826x0.75), AxesSubp...\n",
       "Q    [AxesSubplot(0.1,0.15;0.347826x0.75), AxesSubp...\n",
       "S    [AxesSubplot(0.1,0.15;0.347826x0.75), AxesSubp...\n",
       "dtype: object"
      ]
     },
     "execution_count": 214,
     "metadata": {},
     "output_type": "execute_result"
    },
    {
     "data": {
      "image/png": "[encoded data removed]",
      "text/plain": [
       "<Figure size 432x288 with 2 Axes>"
      ]
     },
     "metadata": {
      "needs_background": "light"
     },
     "output_type": "display_data"
    },
    {
     "data": {
      "image/png": "[encoded data removed]",
      "text/plain": [
       "<Figure size 432x288 with 2 Axes>"
      ]
     },
     "metadata": {
      "needs_background": "light"
     },
     "output_type": "display_data"
    },
    {
     "data": {
      "image/png": "[encoded data removed]",
      "text/plain": [
       "<Figure size 432x288 with 2 Axes>"
      ]
     },
     "metadata": {
      "needs_background": "light"
     },
     "output_type": "display_data"
    }
   ],
   "source": [
    "#Question 13 group by Fare, embarked, Survived, and gender\n",
    "\n",
    "#print(titanic)\n",
    "#total_year.set_index('year').plot(figsize=(10,5), grid=True)\n",
    "\n",
    "ax1= titanic[['Embarked', 'Sex', 'Survived', 'Fare']]\n",
    "\n",
    "#print(ax1)\n",
    "\n",
    "ax1.groupby('Embarked').hist(column = 'Sex', by = 'Survived')"
   ]
  },
  {
   "cell_type": "code",
   "execution_count": 8,
   "metadata": {},
   "outputs": [
    {
     "name": "stdout",
     "output_type": "stream",
     "text": [
      "216\n"
     ]
    }
   ],
   "source": [
    "#Question 14 What is the rate of duplicates in tickets?\n",
    "ticket = titanic['Ticket'].values\n",
    "\n",
    "print(len([item for item, count in Counter(ticket).items() if count > 1]))\n",
    "\n",
    "x = [item for item, count in Counter(ticket).items() if count > 1]\n",
    "\n",
    "tick_surv = np.vstack((ticket, survive)).T\n"
   ]
  },
  {
   "cell_type": "code",
   "execution_count": 9,
   "metadata": {},
   "outputs": [],
   "source": [
    "#Question 15 Cabin Data\n",
    "cabin = titanic['Cabin'].values\n",
    "\n",
    "mc = Counter(cabin)\n",
    "#print(mc.most_common())\n",
    "\n"
   ]
  },
  {
   "cell_type": "code",
   "execution_count": 28,
   "metadata": {},
   "outputs": [],
   "source": [
    "#Q16\n",
    "from copy import copy\n",
    "\n",
    "gender = copy(sex)\n",
    "\n",
    "  \n",
    "# creating a dict file  \n",
    "gender = {'male': 0,'female': 1} \n",
    "  \n",
    "# traversing through dataframe \n",
    "# Gender column and writing \n",
    "# values where key matches \n",
    "titanic['Gender'] = [gender[item] for item in titanic['Sex']] \n",
    "#print(titanic) "
   ]
  },
  {
   "cell_type": "code",
   "execution_count": 31,
   "metadata": {},
   "outputs": [
    {
     "name": "stdout",
     "output_type": "stream",
     "text": [
      "Imputing row 1/1309 with 0 missing, elapsed time: 0.158\n",
      "Imputing row 101/1309 with 0 missing, elapsed time: 0.159\n",
      "Imputing row 201/1309 with 0 missing, elapsed time: 0.160\n",
      "Imputing row 301/1309 with 1 missing, elapsed time: 0.161\n",
      "Imputing row 401/1309 with 0 missing, elapsed time: 0.162\n",
      "Imputing row 501/1309 with 0 missing, elapsed time: 0.163\n",
      "Imputing row 601/1309 with 0 missing, elapsed time: 0.164\n",
      "Imputing row 701/1309 with 0 missing, elapsed time: 0.165\n",
      "Imputing row 801/1309 with 0 missing, elapsed time: 0.165\n",
      "Imputing row 901/1309 with 0 missing, elapsed time: 0.166\n",
      "Imputing row 1001/1309 with 0 missing, elapsed time: 0.167\n",
      "Imputing row 1101/1309 with 0 missing, elapsed time: 0.168\n",
      "Imputing row 1201/1309 with 0 missing, elapsed time: 0.169\n",
      "Imputing row 1301/1309 with 0 missing, elapsed time: 0.169\n",
      "[[ 0.         22.        ]\n",
      " [ 1.         38.        ]\n",
      " [ 1.         26.        ]\n",
      " ...\n",
      " [ 0.         38.5       ]\n",
      " [ 0.         24.66666667]\n",
      " [ 0.         24.33333333]]\n"
     ]
    }
   ],
   "source": [
    "#Q17 Use KNN to fill in age feature to do this I used Gender as the item in common\n",
    "#!pip install fancyimpute\n",
    "from fancyimpute import KNN    \n",
    "\n",
    "age = titanic['Age'].values\n",
    "gender = titanic['Gender'].values\n",
    "\n",
    "combine = np.vstack((gender, age)).T\n",
    "#print(combine)\n",
    "\n",
    "age_knn = KNN(k=3).fit_transform(combine)\n",
    "\n",
    "print(age_knn)"
   ]
  },
  {
   "cell_type": "code",
   "execution_count": 41,
   "metadata": {},
   "outputs": [
    {
     "name": "stdout",
     "output_type": "stream",
     "text": [
      "Counter({'S': 916, 'C': 270, 'Q': 123})\n"
     ]
    }
   ],
   "source": [
    "#Q18 fill in S, Q, C with the items most in common for the embarked dataset\n",
    "\n",
    "\n",
    "titanic= titanic.fillna(titanic['Embarked'].value_counts().index[0])\n",
    "\n",
    "embark = titanic['Embarked'].values\n",
    "mc = Counter(embark) #S is most common\n",
    "print(mc) #Replaced nan with most common value\n"
   ]
  },
  {
   "cell_type": "code",
   "execution_count": 222,
   "metadata": {},
   "outputs": [
    {
     "name": "stdout",
     "output_type": "stream",
     "text": [
      "Counter({8.05: 60, 13.0: 59, 7.75: 55, 26.0: 50, 7.8958: 49, 10.5: 35, 7.775: 26, 7.2292: 24, 7.925: 23, 26.55: 22, 7.8542: 21, 7.225: 21, 8.6625: 21, 7.25: 18, 0.0: 17, 21.0: 14, 9.5: 12, 16.1: 12, 27.7208: 11, 14.5: 11, 69.55: 11, 7.8792: 10, 15.5: 10, 14.4542: 10, 7.7958: 10, 15.2458: 9, 24.15: 9, 7.05: 9, 52.0: 8, 46.9: 8, 56.4958: 8, 7.55: 8, 31.275: 7, 31.3875: 7, 39.6875: 7, 73.5: 7, 23.0: 7, 7.7333: 7, 39.0: 7, 13.5: 7, 262.375: 7, 30.0: 7, 53.1: 6, 29.125: 6, 263.0: 6, 27.9: 6, 7.65: 6, 79.2: 6, 11.5: 6, 26.25: 6, 151.55: 6, 30.5: 6, 83.1583: 6, 21.075: 5, 27.75: 5, 34.375: 5, 25.4667: 5, 90.0: 5, 29.7: 5, 12.35: 5, 134.5: 5, 211.5: 5, 227.525: 5, 65.0: 5, 51.8625: 4, 18.0: 4, 35.5: 4, 41.5792: 4, 12.475: 4, 15.85: 4, 20.575: 4, 14.4583: 4, 36.75: 4, 7.125: 4, 52.5542: 4, 512.3292: 4, 135.6333: 4, 110.8833: 4, 164.8667: 4, 55.4417: 4, 120.0: 4, 19.2583: 4, 59.4: 4, 93.5: 4, 221.7792: 4, 211.3375: 4, 23.45: 4, 11.1333: 3, 16.7: 3, 146.5208: 3, 21.6792: 3, 76.7292: 3, 29.0: 3, 247.5208: 3, 22.3583: 3, 15.0458: 3, 20.525: 3, 22.025: 3, 6.4958: 3, 31.0: 3, 113.275: 3, 9.35: 3, 20.2125: 3, 86.5: 3, 79.65: 3, 153.4625: 3, 77.9583: 3, 20.25: 3, 78.85: 3, 23.25: 3, 108.9: 3, 15.9: 3, 9.225: 3, 15.7417: 3, 18.75: 3, 32.5: 3, 14.4: 3, 81.8583: 3, 22.525: 3, 26.2875: 3, 7.4958: 3, 106.425: 3, 7.8292: 3, 39.6: 3, 33.0: 3, 37.0042: 3, 6.4375: 3, 13.8583: 3, 31.5: 3, 13.775: 3, 71.2833: 2, 30.0708: 2, 16.0: 2, 82.1708: 2, 11.2417: 2, 17.8: 2, 61.9792: 2, 80.0: 2, 83.475: 2, 9.0: 2, 47.1: 2, 61.175: 2, 63.3583: 2, 77.2875: 2, 9.825: 2, 6.975: 2, 6.75: 2, 66.6: 2, 61.3792: 2, 15.75: 2, 55.0: 2, 30.6958: 2, 50.0: 2, 10.4625: 2, 18.7875: 2, 27.0: 2, 76.2917: 2, 19.5: 2, 91.0792: 2, 12.875: 2, 24.0: 2, 56.9292: 2, 57.9792: 2, 28.5: 2, 133.65: 2, 75.25: 2, 69.3: 2, 55.9: 2, 8.1125: 2, 19.9667: 2, 89.1042: 2, 7.725: 2, 12.2875: 2, 9.5875: 2, 49.5042: 2, 78.2667: 2, 15.1: 2, 7.6292: 2, 71.0: 2, 13.8625: 2, 17.4: 2, 51.4792: 2, 8.7125: 2, 42.4: 2, 15.55: 2, 7.0542: 2, 57.0: 2, 13.4167: 2, 7.7375: 2, 25.9292: 2, 8.5167: 2, 7.8875: 2, 6.95: 2, 39.4: 2, 14.1083: 2, 50.4958: 2, 7.0: 2, 82.2667: 2, 57.75: 2, 60.0: 2, 13.9: 2, 75.2417: 2, 12.1833: 2, 136.7792: 2, 8.4583: 1, 8.0292: 1, 9.475: 1, 7.8: 1, 8.1583: 1, 7.7875: 1, 34.6542: 1, 8.6542: 1, 7.1417: 1, 26.2833: 1, 9.2167: 1, 12.525: 1, 7.3125: 1, 25.925: 1, 33.5: 1, 28.7125: 1, 15.05: 1, 8.4042: 1, 12.275: 1, 8.85: 1, 14.0: 1, 6.2375: 1, 35.0: 1, 4.0125: 1, 7.7292: 1, 12.0: 1, 12.65: 1, 6.8583: 1, 7.875: 1, 38.5: 1, 13.7917: 1, 9.8375: 1, 7.0458: 1, 7.5208: 1, 34.0208: 1, 49.5: 1, 26.3875: 1, 40.125: 1, 15.0: 1, 32.3208: 1, 8.4333: 1, 25.5875: 1, 9.8417: 1, 8.1375: 1, 10.1708: 1, 7.7417: 1, 9.4833: 1, 8.3625: 1, 8.6833: 1, 6.45: 1, 8.3: 1, 5.0: 1, 9.8458: 1, 10.5167: 1, 9.6875: 1, 3.1708: 1, 31.6833: 1, 7.85: 1, 15.0333: 1, 15.5792: 1, 28.5375: 1, 25.7: 1, 10.7083: 1, 7.8208: 1, 7.7792: 1, 31.6792: 1, 7.2833: 1, 33.29547928134557: 1, 8.9625: 1, 25.7417: 1, 42.5: 1, 27.4458: 1, 9.325: 1, 12.7375: 1, 45.5: 1, 7.575: 1, 7.5792: 1, 7.7208: 1})\n"
     ]
    }
   ],
   "source": [
    "#Q19 fill in missing fare value with mode\n",
    "\n",
    "\n",
    "titanic['Fare'].fillna(titanic['Fare'].mode(), inplace = True)\n",
    "\n",
    "fare = titanic['Fare'].values\n",
    "mc = Counter(fare) #S is most common\n",
    "print(mc) #Replaced nan with most common value\n"
   ]
  },
  {
   "cell_type": "code",
   "execution_count": 68,
   "metadata": {},
   "outputs": [
    {
     "name": "stdout",
     "output_type": "stream",
     "text": [
      "     PassengerId  Survived  Pclass  \\\n",
      "0              1       0.0       3   \n",
      "1              2       1.0       1   \n",
      "2              3       1.0       3   \n",
      "3              4       1.0       1   \n",
      "4              5       0.0       3   \n",
      "..           ...       ...     ...   \n",
      "413         1305       NaN       3   \n",
      "414         1306       NaN       1   \n",
      "415         1307       NaN       3   \n",
      "416         1308       NaN       3   \n",
      "417         1309       NaN       3   \n",
      "\n",
      "                                                  Name     Sex   Age  SibSp  \\\n",
      "0                              Braund, Mr. Owen Harris    male  22.0      1   \n",
      "1    Cumings, Mrs. John Bradley (Florence Briggs Th...  female  38.0      1   \n",
      "2                               Heikkinen, Miss. Laina  female  26.0      0   \n",
      "3         Futrelle, Mrs. Jacques Heath (Lily May Peel)  female  35.0      1   \n",
      "4                             Allen, Mr. William Henry    male  35.0      0   \n",
      "..                                                 ...     ...   ...    ...   \n",
      "413                                 Spector, Mr. Woolf    male   NaN      0   \n",
      "414                       Oliva y Ocana, Dona. Fermina  female  39.0      0   \n",
      "415                       Saether, Mr. Simon Sivertsen    male  38.5      0   \n",
      "416                                Ware, Mr. Frederick    male   NaN      0   \n",
      "417                           Peter, Master. Michael J    male   NaN      1   \n",
      "\n",
      "     Parch              Ticket      Fare Cabin Embarked Fareband  \n",
      "0        0           A/5 21171    7.2500   NaN        S        0  \n",
      "1        0            PC 17599   71.2833   C85        C        3  \n",
      "2        0    STON/O2. 3101282    7.9250   NaN        S        1  \n",
      "3        0              113803   53.1000  C123        S        3  \n",
      "4        0              373450    8.0500   NaN        S        1  \n",
      "..     ...                 ...       ...   ...      ...      ...  \n",
      "413      0           A.5. 3236    8.0500   NaN        S        1  \n",
      "414      0            PC 17758  108.9000  C105        C        3  \n",
      "415      0  SOTON/O.Q. 3101262    7.2500   NaN        S        0  \n",
      "416      0              359309    8.0500   NaN        S        1  \n",
      "417      1                2668   22.3583   NaN        C        2  \n",
      "\n",
      "[1309 rows x 13 columns]\n"
     ]
    }
   ],
   "source": [
    "#Q20 convert fare into ordinal data\n",
    "\n",
    "bins  = [-np.inf, 7.91, 14.54, 31.0, 512.329]\n",
    "labels = [0, 1, 2, 3]\n",
    "\n",
    "titanic['Fareband'] = pd.cut(titanic['Fare'].values, bins=bins, labels=labels)\n",
    "\n",
    "print(titanic)"
   ]
  },
  {
   "cell_type": "code",
   "execution_count": null,
   "metadata": {},
   "outputs": [],
   "source": []
  }
 ],
 "metadata": {
  "kernelspec": {
   "display_name": "Python 3",
   "language": "python",
   "name": "python3"
  },
  "language_info": {
   "codemirror_mode": {
    "name": "ipython",
    "version": 3
   },
   "file_extension": ".py",
   "mimetype": "text/x-python",
   "name": "python",
   "nbconvert_exporter": "python",
   "pygments_lexer": "ipython3",
   "version": "3.7.3"
  }
 },
 "nbformat": 4,
 "nbformat_minor": 4
}
